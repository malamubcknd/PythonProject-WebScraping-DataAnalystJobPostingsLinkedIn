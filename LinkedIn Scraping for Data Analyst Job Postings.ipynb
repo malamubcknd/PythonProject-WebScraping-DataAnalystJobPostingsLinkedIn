{
 "cells": [
  {
   "cell_type": "code",
   "execution_count": 73,
   "id": "40e6badf",
   "metadata": {},
   "outputs": [],
   "source": [
    "#importing the neccessary libraries\n",
    "from bs4 import BeautifulSoup as bs\n",
    "import requests\n",
    "import pandas as pd"
   ]
  },
  {
   "cell_type": "code",
   "execution_count": 74,
   "id": "9ec1947a",
   "metadata": {},
   "outputs": [],
   "source": [
    "#connecting to the website\n",
    "url = requests.get('https://www.linkedin.com/jobs/search?keywords=Data%20Analyst&location=ghana&geoId=&trk=public_jobs_jobs-search-bar_search-submit&position=1&pageNum=0')"
   ]
  },
  {
   "cell_type": "code",
   "execution_count": 75,
   "id": "f21e0dd6",
   "metadata": {},
   "outputs": [],
   "source": [
    "#parsing and printing out the webpage html\n",
    "webpage =bs(url.content,'html.parser')\n",
    "#print(webpage.prettify())"
   ]
  },
  {
   "cell_type": "code",
   "execution_count": 76,
   "id": "8de7054e",
   "metadata": {},
   "outputs": [],
   "source": [
    "job_lists = webpage.find('ul', class_='jobs-search__results-list')\n",
    "#print(job_lists)"
   ]
  },
  {
   "cell_type": "code",
   "execution_count": 77,
   "id": "d5b5df4a",
   "metadata": {},
   "outputs": [
    {
     "name": "stdout",
     "output_type": "stream",
     "text": [
      "[['Business Intelligence Analyst', 'AT Ghana', '2023-08-06'], ['Finance & Data Analyst', 'Quick Credit & Investment Micro-Credit Ltd', '2023-06-25'], ['Business Intelligence Designer at Promasidor', 'Promasidor', '2023-09-10'], ['Data Analyst', 'Turing', '2023-08-27'], ['Database Engineer', 'Judicial Service of Ghana', '2023-05-22'], ['BI Enterprise Data Ware House Specialist At Vodafone Ghana', 'National Communications Backbone Company Ltd, Subsidiary of Vodafone Ghana', '2023-05-02'], ['Business Intelligence Data Analyst', 'Turing', '2023-08-27'], ['BI Specialist At Vodafone Ghana', 'National Communications Backbone Company Ltd, Subsidiary of Vodafone Ghana', '2023-06-02'], ['Data Processing Officer', 'Ghana Statistical Service', '2023-05-22'], ['Data Engineer I', 'Civitas Learning', '2023-08-01'], ['Data Scientist / Analyst at Carrot Institute', 'Carrot Institute', '2023-06-15'], ['Business and Systems Analyst at FIDO', 'Fido', '2023-06-15'], ['Business and Systems Analyst at FIDO', 'Fido', '2023-07-07'], ['Data Mart Engineer', 'AT Ghana', '2023-08-06'], ['Data Engineer II', 'Civitas Learning', '2023-07-26'], ['Institutional Data Engineer', 'University of Ghana', '2023-05-22'], ['Security Intelligence Analyst At e-Crime Bureau Inc', 'e-Crime Bureau®', '2023-07-03'], ['Database Application Developer', 'Central University', '2023-05-22'], ['JUNIOR DEVELOPER - Dubai, UAE', 'Cobblestone Energy', '2023-06-22'], ['Big Data Research Analyst At Origo Software', 'Origo', '2023-01-13'], ['Business Analyst', 'Coca-Cola Beverages Africa', '2023-09-09'], ['Professional Service Engineer At Hysen Data Systems Ltd', 'Hysen Data Systems Ltd, Ghana', '2023-05-22'], ['Senior Systems Analyst / Head of ICT', 'Foundation Christian College', '2023-05-02'], ['Condition Monitoring Engineer', 'Aarti Industries Ltd.', '2023-07-18']]\n"
     ]
    }
   ],
   "source": [
    "job = job_lists.find_all(\"li\")\n",
    "job_description = []\n",
    "for i in job:\n",
    "    # Find the nested div with class 'base-search-card__info'\n",
    "    job_info_div = i.find('div', class_='base-search-card__info')\n",
    "\n",
    "    current_row = []\n",
    "    \n",
    "    if job_info_div:\n",
    "        # Extract job title from <h3> tag\n",
    "        job_title = job_info_div.find('h3').text.strip()\n",
    "        current_row.append(job_title)\n",
    "\n",
    "        # Extract company name from <h4> tag\n",
    "        company_name = job_info_div.find('h4').text.strip()\n",
    "        current_row.append(company_name)\n",
    "\n",
    "        # Extract date from <time> tag\n",
    "        date_tag = job_info_div.find('time')\n",
    "        job_date_posted = date_tag['datetime'] \n",
    "        current_row.append(job_date_posted)\n",
    "        \n",
    "        job_description.append(current_row)\n",
    "        \n",
    "print(job_description)"
   ]
  },
  {
   "cell_type": "code",
   "execution_count": 78,
   "id": "9e2376c7",
   "metadata": {},
   "outputs": [
    {
     "name": "stdout",
     "output_type": "stream",
     "text": [
      "['job_title', 'company_name', 'job_date_posted']\n"
     ]
    }
   ],
   "source": [
    "headers= [\"job_title\",\"company_name\",\"job_date_posted\"]\n",
    "print(headers)"
   ]
  },
  {
   "cell_type": "code",
   "execution_count": 79,
   "id": "43d9ffce",
   "metadata": {},
   "outputs": [
    {
     "name": "stdout",
     "output_type": "stream",
     "text": [
      "                                            job_title  \\\n",
      "0                       Business Intelligence Analyst   \n",
      "1                              Finance & Data Analyst   \n",
      "2        Business Intelligence Designer at Promasidor   \n",
      "3                                        Data Analyst   \n",
      "4                                   Database Engineer   \n",
      "5   BI Enterprise Data Ware House Specialist At Vo...   \n",
      "6                  Business Intelligence Data Analyst   \n",
      "7                     BI Specialist At Vodafone Ghana   \n",
      "8                             Data Processing Officer   \n",
      "9                                     Data Engineer I   \n",
      "10       Data Scientist / Analyst at Carrot Institute   \n",
      "11               Business and Systems Analyst at FIDO   \n",
      "12               Business and Systems Analyst at FIDO   \n",
      "13                                 Data Mart Engineer   \n",
      "14                                   Data Engineer II   \n",
      "15                        Institutional Data Engineer   \n",
      "16  Security Intelligence Analyst At e-Crime Burea...   \n",
      "17                     Database Application Developer   \n",
      "18                      JUNIOR DEVELOPER - Dubai, UAE   \n",
      "19        Big Data Research Analyst At Origo Software   \n",
      "20                                   Business Analyst   \n",
      "21  Professional Service Engineer At Hysen Data Sy...   \n",
      "22               Senior Systems Analyst / Head of ICT   \n",
      "23                      Condition Monitoring Engineer   \n",
      "\n",
      "                                         company_name job_date_posted  \n",
      "0                                            AT Ghana      2023-08-06  \n",
      "1          Quick Credit & Investment Micro-Credit Ltd      2023-06-25  \n",
      "2                                          Promasidor      2023-09-10  \n",
      "3                                              Turing      2023-08-27  \n",
      "4                           Judicial Service of Ghana      2023-05-22  \n",
      "5   National Communications Backbone Company Ltd, ...      2023-05-02  \n",
      "6                                              Turing      2023-08-27  \n",
      "7   National Communications Backbone Company Ltd, ...      2023-06-02  \n",
      "8                           Ghana Statistical Service      2023-05-22  \n",
      "9                                    Civitas Learning      2023-08-01  \n",
      "10                                   Carrot Institute      2023-06-15  \n",
      "11                                               Fido      2023-06-15  \n",
      "12                                               Fido      2023-07-07  \n",
      "13                                           AT Ghana      2023-08-06  \n",
      "14                                   Civitas Learning      2023-07-26  \n",
      "15                                University of Ghana      2023-05-22  \n",
      "16                                    e-Crime Bureau®      2023-07-03  \n",
      "17                                 Central University      2023-05-22  \n",
      "18                                 Cobblestone Energy      2023-06-22  \n",
      "19                                              Origo      2023-01-13  \n",
      "20                         Coca-Cola Beverages Africa      2023-09-09  \n",
      "21                      Hysen Data Systems Ltd, Ghana      2023-05-22  \n",
      "22                       Foundation Christian College      2023-05-02  \n",
      "23                              Aarti Industries Ltd.      2023-07-18  \n"
     ]
    }
   ],
   "source": [
    "df = pd.DataFrame(job_description,columns=headers)\n",
    "print(df)"
   ]
  },
  {
   "cell_type": "code",
   "execution_count": 72,
   "id": "609212e3",
   "metadata": {},
   "outputs": [],
   "source": [
    "# Specify the file path and name where you want to save the CSV file\n",
    "csv_file_path = \"Specify_your_desired_file_path.csv\"\n",
    "\n",
    "# Use the 'to_csv' method to save the DataFrame to a CSV file\n",
    "df.to_csv(csv_file_path, index=False)  # Set 'index' to False to exclude row numbers"
   ]
  },
  {
   "cell_type": "code",
   "execution_count": 80,
   "id": "374a78f7",
   "metadata": {},
   "outputs": [
    {
     "data": {
      "text/plain": [
       "29"
      ]
     },
     "execution_count": 80,
     "metadata": {},
     "output_type": "execute_result"
    }
   ],
   "source": [
    "len(job_title)"
   ]
  },
  {
   "cell_type": "code",
   "execution_count": null,
   "id": "9bc0076b",
   "metadata": {},
   "outputs": [],
   "source": []
  }
 ],
 "metadata": {
  "kernelspec": {
   "display_name": "Python 3 (ipykernel)",
   "language": "python",
   "name": "python3"
  },
  "language_info": {
   "codemirror_mode": {
    "name": "ipython",
    "version": 3
   },
   "file_extension": ".py",
   "mimetype": "text/x-python",
   "name": "python",
   "nbconvert_exporter": "python",
   "pygments_lexer": "ipython3",
   "version": "3.9.13"
  }
 },
 "nbformat": 4,
 "nbformat_minor": 5
}
